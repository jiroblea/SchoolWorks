{
 "cells": [
  {
   "attachments": {},
   "cell_type": "markdown",
   "metadata": {},
   "source": [
    "Data Manipulation Using Data Frame\n",
    "by Junius Iosif Oblea\n",
    "7/1/2023"
   ]
  },
  {
   "cell_type": "code",
   "execution_count": 1,
   "metadata": {},
   "outputs": [],
   "source": [
    "from pyspark.sql import SparkSession\n",
    "spark = SparkSession.builder.master(\"local[1]\").appName(\"BigData-CarPriceDatasetManipulationUsingDataFrame\").getOrCreate()"
   ]
  },
  {
   "cell_type": "code",
   "execution_count": 2,
   "metadata": {},
   "outputs": [
    {
     "name": "stdout",
     "output_type": "stream",
     "text": [
      "+---------+-----------------+-----------+---------+----------+------------+-----------+------------+---------------+----------+------+-----+------+-----------+-----------+----------------+-----------+-----------+----+------+-----------------+----------+--------+--------+-----------+-----+\n",
      "|symboling|normalized-losses|       make|fuel-type|aspiration|num-of-doors| body-style|drive-wheels|engine-location|wheel-base|length|width|height|curb-weight|engine-type|num-of-cylinders|engine-size|fuel-system|bore|stroke|compression-ratio|horsepower|peak-rpm|city-mpg|highway-mpg|price|\n",
      "+---------+-----------------+-----------+---------+----------+------------+-----------+------------+---------------+----------+------+-----+------+-----------+-----------+----------------+-----------+-----------+----+------+-----------------+----------+--------+--------+-----------+-----+\n",
      "|        3|                ?|alfa-romero|      gas|       std|         two|convertible|         rwd|          front|      88.6| 168.8| 64.1|  48.8|       2548|       dohc|            four|        130|       mpfi|3.47|  2.68|              9.0|       111|    5000|      21|         27|13495|\n",
      "|        3|                ?|alfa-romero|      gas|       std|         two|convertible|         rwd|          front|      88.6| 168.8| 64.1|  48.8|       2548|       dohc|            four|        130|       mpfi|3.47|  2.68|              9.0|       111|    5000|      21|         27|16500|\n",
      "|        1|                ?|alfa-romero|      gas|       std|         two|  hatchback|         rwd|          front|      94.5| 171.2| 65.5|  52.4|       2823|       ohcv|             six|        152|       mpfi|2.68|  3.47|              9.0|       154|    5000|      19|         26|16500|\n",
      "|        2|              164|       audi|      gas|       std|        four|      sedan|         fwd|          front|      99.8| 176.6| 66.2|  54.3|       2337|        ohc|            four|        109|       mpfi|3.19|   3.4|             10.0|       102|    5500|      24|         30|13950|\n",
      "|        2|              164|       audi|      gas|       std|        four|      sedan|         4wd|          front|      99.4| 176.6| 66.4|  54.3|       2824|        ohc|            five|        136|       mpfi|3.19|   3.4|              8.0|       115|    5500|      18|         22|17450|\n",
      "|        2|                ?|       audi|      gas|       std|         two|      sedan|         fwd|          front|      99.8| 177.3| 66.3|  53.1|       2507|        ohc|            five|        136|       mpfi|3.19|   3.4|              8.5|       110|    5500|      19|         25|15250|\n",
      "|        1|              158|       audi|      gas|       std|        four|      sedan|         fwd|          front|     105.8| 192.7| 71.4|  55.7|       2844|        ohc|            five|        136|       mpfi|3.19|   3.4|              8.5|       110|    5500|      19|         25|17710|\n",
      "|        1|                ?|       audi|      gas|       std|        four|      wagon|         fwd|          front|     105.8| 192.7| 71.4|  55.7|       2954|        ohc|            five|        136|       mpfi|3.19|   3.4|              8.5|       110|    5500|      19|         25|18920|\n",
      "|        1|              158|       audi|      gas|     turbo|        four|      sedan|         fwd|          front|     105.8| 192.7| 71.4|  55.9|       3086|        ohc|            five|        131|       mpfi|3.13|   3.4|              8.3|       140|    5500|      17|         20|23875|\n",
      "|        0|                ?|       audi|      gas|     turbo|         two|  hatchback|         4wd|          front|      99.5| 178.2| 67.9|  52.0|       3053|        ohc|            five|        131|       mpfi|3.13|   3.4|              7.0|       160|    5500|      16|         22|    ?|\n",
      "|        2|              192|        bmw|      gas|       std|         two|      sedan|         rwd|          front|     101.2| 176.8| 64.8|  54.3|       2395|        ohc|            four|        108|       mpfi| 3.5|   2.8|              8.8|       101|    5800|      23|         29|16430|\n",
      "|        0|              192|        bmw|      gas|       std|        four|      sedan|         rwd|          front|     101.2| 176.8| 64.8|  54.3|       2395|        ohc|            four|        108|       mpfi| 3.5|   2.8|              8.8|       101|    5800|      23|         29|16925|\n",
      "|        0|              188|        bmw|      gas|       std|         two|      sedan|         rwd|          front|     101.2| 176.8| 64.8|  54.3|       2710|        ohc|             six|        164|       mpfi|3.31|  3.19|              9.0|       121|    4250|      21|         28|20970|\n",
      "|        0|              188|        bmw|      gas|       std|        four|      sedan|         rwd|          front|     101.2| 176.8| 64.8|  54.3|       2765|        ohc|             six|        164|       mpfi|3.31|  3.19|              9.0|       121|    4250|      21|         28|21105|\n",
      "|        1|                ?|        bmw|      gas|       std|        four|      sedan|         rwd|          front|     103.5| 189.0| 66.9|  55.7|       3055|        ohc|             six|        164|       mpfi|3.31|  3.19|              9.0|       121|    4250|      20|         25|24565|\n",
      "|        0|                ?|        bmw|      gas|       std|        four|      sedan|         rwd|          front|     103.5| 189.0| 66.9|  55.7|       3230|        ohc|             six|        209|       mpfi|3.62|  3.39|              8.0|       182|    5400|      16|         22|30760|\n",
      "|        0|                ?|        bmw|      gas|       std|         two|      sedan|         rwd|          front|     103.5| 193.8| 67.9|  53.7|       3380|        ohc|             six|        209|       mpfi|3.62|  3.39|              8.0|       182|    5400|      16|         22|41315|\n",
      "|        0|                ?|        bmw|      gas|       std|        four|      sedan|         rwd|          front|     110.0| 197.0| 70.9|  56.3|       3505|        ohc|             six|        209|       mpfi|3.62|  3.39|              8.0|       182|    5400|      15|         20|36880|\n",
      "|        2|              121|  chevrolet|      gas|       std|         two|  hatchback|         fwd|          front|      88.4| 141.1| 60.3|  53.2|       1488|          l|           three|         61|       2bbl|2.91|  3.03|              9.5|        48|    5100|      47|         53| 5151|\n",
      "|        1|               98|  chevrolet|      gas|       std|         two|  hatchback|         fwd|          front|      94.5| 155.9| 63.6|  52.0|       1874|        ohc|            four|         90|       2bbl|3.03|  3.11|              9.6|        70|    5400|      38|         43| 6295|\n",
      "+---------+-----------------+-----------+---------+----------+------------+-----------+------------+---------------+----------+------+-----+------+-----------+-----------+----------------+-----------+-----------+----+------+-----------------+----------+--------+--------+-----------+-----+\n",
      "only showing top 20 rows\n",
      "\n"
     ]
    }
   ],
   "source": [
    "df_csv = spark.read.csv(\"carprice.csv\", header=True, inferSchema=True)\n",
    "df_csv.show()"
   ]
  },
  {
   "cell_type": "code",
   "execution_count": 3,
   "metadata": {},
   "outputs": [
    {
     "data": {
      "text/plain": [
       "199"
      ]
     },
     "execution_count": 3,
     "metadata": {},
     "output_type": "execute_result"
    }
   ],
   "source": [
    "df_csv.count()"
   ]
  },
  {
   "cell_type": "code",
   "execution_count": 4,
   "metadata": {},
   "outputs": [
    {
     "name": "stdout",
     "output_type": "stream",
     "text": [
      "+-----------+---------+-----------+--------+-----+\n",
      "|       make|fuel-type|engine-type|city-mpg|price|\n",
      "+-----------+---------+-----------+--------+-----+\n",
      "|alfa-romero|      gas|       dohc|      21|13495|\n",
      "|alfa-romero|      gas|       dohc|      21|16500|\n",
      "|alfa-romero|      gas|       ohcv|      19|16500|\n",
      "|       audi|      gas|        ohc|      24|13950|\n",
      "|       audi|      gas|        ohc|      18|17450|\n",
      "|       audi|      gas|        ohc|      19|15250|\n",
      "|       audi|      gas|        ohc|      19|17710|\n",
      "|       audi|      gas|        ohc|      19|18920|\n",
      "|       audi|      gas|        ohc|      17|23875|\n",
      "|       audi|      gas|        ohc|      16|    ?|\n",
      "|        bmw|      gas|        ohc|      23|16430|\n",
      "|        bmw|      gas|        ohc|      23|16925|\n",
      "|        bmw|      gas|        ohc|      21|20970|\n",
      "|        bmw|      gas|        ohc|      21|21105|\n",
      "|        bmw|      gas|        ohc|      20|24565|\n",
      "|        bmw|      gas|        ohc|      16|30760|\n",
      "|        bmw|      gas|        ohc|      16|41315|\n",
      "|        bmw|      gas|        ohc|      15|36880|\n",
      "|  chevrolet|      gas|          l|      47| 5151|\n",
      "|  chevrolet|      gas|        ohc|      38| 6295|\n",
      "+-----------+---------+-----------+--------+-----+\n",
      "only showing top 20 rows\n",
      "\n"
     ]
    }
   ],
   "source": [
    "df_csv_select = df_csv.select(\"make\", \"fuel-type\", \"engine-type\", \"city-mpg\", \"price\")\n",
    "df_csv_select.show()"
   ]
  },
  {
   "cell_type": "code",
   "execution_count": 5,
   "metadata": {},
   "outputs": [
    {
     "name": "stdout",
     "output_type": "stream",
     "text": [
      "+---------+-----------------+-----------+---------+----------+------------+-----------+------------+---------------+----------+------+-----+------+-----------+-----------+----------------+-----------+-----------+----+------+-----------------+----------+--------+--------+-----------+-----+\n",
      "|symboling|normalized-losses|       make|fuel-type|aspiration|num-of-doors| body-style|drive-wheels|engine-location|wheel-base|length|width|height|curb-weight|engine-type|num-of-cylinders|engine-size|fuel-system|bore|stroke|compression-ratio|horsepower|peak-rpm|city-mpg|highway-mpg|price|\n",
      "+---------+-----------------+-----------+---------+----------+------------+-----------+------------+---------------+----------+------+-----+------+-----------+-----------+----------------+-----------+-----------+----+------+-----------------+----------+--------+--------+-----------+-----+\n",
      "|        3|                ?|alfa-romero|      gas|       std|         two|convertible|         rwd|          front|      88.6| 168.8| 64.1|  48.8|       2548|       dohc|            four|        130|       mpfi|3.47|  2.68|              9.0|       111|    5000|      21|         27|16500|\n",
      "|        1|                ?|alfa-romero|      gas|       std|         two|  hatchback|         rwd|          front|      94.5| 171.2| 65.5|  52.4|       2823|       ohcv|             six|        152|       mpfi|2.68|  3.47|              9.0|       154|    5000|      19|         26|16500|\n",
      "|        2|              164|       audi|      gas|       std|        four|      sedan|         4wd|          front|      99.4| 176.6| 66.4|  54.3|       2824|        ohc|            five|        136|       mpfi|3.19|   3.4|              8.0|       115|    5500|      18|         22|17450|\n",
      "|        2|                ?|       audi|      gas|       std|         two|      sedan|         fwd|          front|      99.8| 177.3| 66.3|  53.1|       2507|        ohc|            five|        136|       mpfi|3.19|   3.4|              8.5|       110|    5500|      19|         25|15250|\n",
      "|        1|              158|       audi|      gas|       std|        four|      sedan|         fwd|          front|     105.8| 192.7| 71.4|  55.7|       2844|        ohc|            five|        136|       mpfi|3.19|   3.4|              8.5|       110|    5500|      19|         25|17710|\n",
      "|        1|                ?|       audi|      gas|       std|        four|      wagon|         fwd|          front|     105.8| 192.7| 71.4|  55.7|       2954|        ohc|            five|        136|       mpfi|3.19|   3.4|              8.5|       110|    5500|      19|         25|18920|\n",
      "|        1|              158|       audi|      gas|     turbo|        four|      sedan|         fwd|          front|     105.8| 192.7| 71.4|  55.9|       3086|        ohc|            five|        131|       mpfi|3.13|   3.4|              8.3|       140|    5500|      17|         20|23875|\n",
      "|        2|              192|        bmw|      gas|       std|         two|      sedan|         rwd|          front|     101.2| 176.8| 64.8|  54.3|       2395|        ohc|            four|        108|       mpfi| 3.5|   2.8|              8.8|       101|    5800|      23|         29|16430|\n",
      "|        0|              192|        bmw|      gas|       std|        four|      sedan|         rwd|          front|     101.2| 176.8| 64.8|  54.3|       2395|        ohc|            four|        108|       mpfi| 3.5|   2.8|              8.8|       101|    5800|      23|         29|16925|\n",
      "|        0|              188|        bmw|      gas|       std|         two|      sedan|         rwd|          front|     101.2| 176.8| 64.8|  54.3|       2710|        ohc|             six|        164|       mpfi|3.31|  3.19|              9.0|       121|    4250|      21|         28|20970|\n",
      "|        0|              188|        bmw|      gas|       std|        four|      sedan|         rwd|          front|     101.2| 176.8| 64.8|  54.3|       2765|        ohc|             six|        164|       mpfi|3.31|  3.19|              9.0|       121|    4250|      21|         28|21105|\n",
      "|        1|                ?|        bmw|      gas|       std|        four|      sedan|         rwd|          front|     103.5| 189.0| 66.9|  55.7|       3055|        ohc|             six|        164|       mpfi|3.31|  3.19|              9.0|       121|    4250|      20|         25|24565|\n",
      "|        0|                ?|        bmw|      gas|       std|        four|      sedan|         rwd|          front|     103.5| 189.0| 66.9|  55.7|       3230|        ohc|             six|        209|       mpfi|3.62|  3.39|              8.0|       182|    5400|      16|         22|30760|\n",
      "|        0|                ?|        bmw|      gas|       std|         two|      sedan|         rwd|          front|     103.5| 193.8| 67.9|  53.7|       3380|        ohc|             six|        209|       mpfi|3.62|  3.39|              8.0|       182|    5400|      16|         22|41315|\n",
      "|        0|                ?|        bmw|      gas|       std|        four|      sedan|         rwd|          front|     110.0| 197.0| 70.9|  56.3|       3505|        ohc|             six|        209|       mpfi|3.62|  3.39|              8.0|       182|    5400|      15|         20|36880|\n",
      "|        0|              145|     jaguar|      gas|       std|        four|      sedan|         rwd|          front|     113.0| 199.6| 69.6|  52.8|       4066|       dohc|             six|        258|       mpfi|3.63|  4.17|              8.1|       176|    4750|      15|         19|32250|\n",
      "|        0|                ?|     jaguar|      gas|       std|        four|      sedan|         rwd|          front|     113.0| 199.6| 69.6|  52.8|       4066|       dohc|             six|        258|       mpfi|3.63|  4.17|              8.1|       176|    4750|      15|         19|35550|\n",
      "|        0|                ?|     jaguar|      gas|       std|         two|      sedan|         rwd|          front|     102.0| 191.7| 70.6|  47.8|       3950|       ohcv|          twelve|        326|       mpfi|3.54|  2.76|             11.5|       262|    5000|      13|         17|36000|\n",
      "|        0|              118|      mazda|      gas|       std|        four|      sedan|         rwd|          front|     104.9| 175.0| 66.1|  54.4|       2670|        ohc|            four|        140|       mpfi|3.76|  3.16|              8.0|       120|    5000|      19|         27|18280|\n",
      "|        0|                ?|      mazda|   diesel|       std|        four|      sedan|         rwd|          front|     104.9| 175.0| 66.1|  54.4|       2700|        ohc|            four|        134|        idi|3.43|  3.64|             22.0|        72|    4200|      31|         39|18344|\n",
      "+---------+-----------------+-----------+---------+----------+------------+-----------+------------+---------------+----------+------+-----+------+-----------+-----------+----------------+-----------+-----------+----+------+-----------------+----------+--------+--------+-----------+-----+\n",
      "only showing top 20 rows\n",
      "\n"
     ]
    }
   ],
   "source": [
    "df_csv_filter = df_csv.filter(df_csv.price > 15000)\n",
    "df_csv_filter.show()"
   ]
  },
  {
   "cell_type": "code",
   "execution_count": 6,
   "metadata": {},
   "outputs": [
    {
     "data": {
      "text/plain": [
       "61"
      ]
     },
     "execution_count": 6,
     "metadata": {},
     "output_type": "execute_result"
    }
   ],
   "source": [
    "df_csv_filter.count()"
   ]
  },
  {
   "cell_type": "code",
   "execution_count": 7,
   "metadata": {},
   "outputs": [
    {
     "name": "stdout",
     "output_type": "stream",
     "text": [
      "+-----------+-----+\n",
      "| body-style|count|\n",
      "+-----------+-----+\n",
      "|      wagon|   24|\n",
      "|convertible|    6|\n",
      "|      sedan|   96|\n",
      "|  hatchback|   65|\n",
      "|    hardtop|    8|\n",
      "+-----------+-----+\n",
      "\n"
     ]
    }
   ],
   "source": [
    "df_csv_group = df_csv.groupby(\"body-style\")\n",
    "df_csv_group.count().show()"
   ]
  },
  {
   "cell_type": "code",
   "execution_count": 8,
   "metadata": {},
   "outputs": [
    {
     "name": "stdout",
     "output_type": "stream",
     "text": [
      "+----------+-----------+--------+-----+\n",
      "|      make| body-style|city-mpg|count|\n",
      "+----------+-----------+--------+-----+\n",
      "|     dodge|      wagon|      24|    1|\n",
      "|    subaru|      wagon|      25|    1|\n",
      "|    toyota|      sedan|      26|    1|\n",
      "|    nissan|      sedan|      17|    1|\n",
      "|    nissan|      wagon|      31|    2|\n",
      "|     volvo|      wagon|      17|    1|\n",
      "|    nissan|      sedan|      45|    1|\n",
      "|  plymouth|      sedan|      31|    2|\n",
      "|volkswagen|      sedan|      33|    1|\n",
      "|    toyota|  hatchback|      20|    1|\n",
      "|     volvo|      sedan|      18|    1|\n",
      "|    toyota|  hatchback|      19|    1|\n",
      "|    peugot|      sedan|      19|    3|\n",
      "|    nissan|  hatchback|      31|    1|\n",
      "|     volvo|      sedan|      24|    1|\n",
      "|     honda|      sedan|      25|    1|\n",
      "|  plymouth|  hatchback|      24|    1|\n",
      "|     volvo|      sedan|      19|    2|\n",
      "|    toyota|convertible|      24|    1|\n",
      "|    toyota|  hatchback|      27|    2|\n",
      "+----------+-----------+--------+-----+\n",
      "only showing top 20 rows\n",
      "\n"
     ]
    }
   ],
   "source": [
    "df_csv_groupby_make = df_csv.groupBy(\"make\", \"body-style\", \"city-mpg\")\n",
    "df_csv_groupby_make.count().show()"
   ]
  },
  {
   "cell_type": "code",
   "execution_count": 9,
   "metadata": {},
   "outputs": [
    {
     "name": "stdout",
     "output_type": "stream",
     "text": [
      "+---------+-----------------+-------------+---------+----------+------------+-----------+------------+---------------+----------+------+-----+------+-----------+-----------+----------------+-----------+-----------+----+------+-----------------+----------+--------+--------+-----------+-----+\n",
      "|symboling|normalized-losses|         make|fuel-type|aspiration|num-of-doors| body-style|drive-wheels|engine-location|wheel-base|length|width|height|curb-weight|engine-type|num-of-cylinders|engine-size|fuel-system|bore|stroke|compression-ratio|horsepower|peak-rpm|city-mpg|highway-mpg|price|\n",
      "+---------+-----------------+-------------+---------+----------+------------+-----------+------------+---------------+----------+------+-----+------+-----------+-----------+----------------+-----------+-----------+----+------+-----------------+----------+--------+--------+-----------+-----+\n",
      "|        0|                ?|       jaguar|      gas|       std|         two|      sedan|         rwd|          front|     102.0| 191.7| 70.6|  47.8|       3950|       ohcv|          twelve|        326|       mpfi|3.54|  2.76|             11.5|       262|    5000|      13|         17|36000|\n",
      "|        0|                ?|mercedes-benz|      gas|       std|        four|      sedan|         rwd|          front|     120.9| 208.1| 71.7|  56.7|       3900|       ohcv|           eight|        308|       mpfi| 3.8|  3.35|              8.0|       184|    4500|      14|         16|40960|\n",
      "|        1|                ?|mercedes-benz|      gas|       std|         two|    hardtop|         rwd|          front|     112.0| 199.2| 72.0|  55.4|       3715|       ohcv|           eight|        304|       mpfi| 3.8|  3.35|              8.0|       184|    4500|      14|         16|45400|\n",
      "|        0|                ?|       jaguar|      gas|       std|        four|      sedan|         rwd|          front|     113.0| 199.6| 69.6|  52.8|       4066|       dohc|             six|        258|       mpfi|3.63|  4.17|              8.1|       176|    4750|      15|         19|35550|\n",
      "|        0|                ?|          bmw|      gas|       std|        four|      sedan|         rwd|          front|     110.0| 197.0| 70.9|  56.3|       3505|        ohc|             six|        209|       mpfi|3.62|  3.39|              8.0|       182|    5400|      15|         20|36880|\n",
      "|        0|              145|       jaguar|      gas|       std|        four|      sedan|         rwd|          front|     113.0| 199.6| 69.6|  52.8|       4066|       dohc|             six|        258|       mpfi|3.63|  4.17|              8.1|       176|    4750|      15|         19|32250|\n",
      "|        0|                ?|         audi|      gas|     turbo|         two|  hatchback|         4wd|          front|      99.5| 178.2| 67.9|  52.0|       3053|        ohc|            five|        131|       mpfi|3.13|   3.4|              7.0|       160|    5500|      16|         22|    ?|\n",
      "|        0|                ?|          bmw|      gas|       std|        four|      sedan|         rwd|          front|     103.5| 189.0| 66.9|  55.7|       3230|        ohc|             six|        209|       mpfi|3.62|  3.39|              8.0|       182|    5400|      16|         22|30760|\n",
      "|        0|                ?|          bmw|      gas|       std|         two|      sedan|         rwd|          front|     103.5| 193.8| 67.9|  53.7|       3380|        ohc|             six|        209|       mpfi|3.62|  3.39|              8.0|       182|    5400|      16|         22|41315|\n",
      "|       -1|                ?|mercedes-benz|      gas|       std|        four|      sedan|         rwd|          front|     115.6| 202.6| 71.7|  56.5|       3740|       ohcv|           eight|        234|       mpfi|3.46|   3.1|              8.3|       155|    4750|      16|         18|34184|\n",
      "|        3|              142|mercedes-benz|      gas|       std|         two|convertible|         rwd|          front|      96.6| 180.3| 70.5|  50.8|       3685|       ohcv|           eight|        234|       mpfi|3.46|   3.1|              8.3|       155|    4750|      16|         18|35056|\n",
      "|        1|              158|         audi|      gas|     turbo|        four|      sedan|         fwd|          front|     105.8| 192.7| 71.4|  55.9|       3086|        ohc|            five|        131|       mpfi|3.13|   3.4|              8.3|       140|    5500|      17|         20|23875|\n",
      "|        0|              108|       nissan|      gas|       std|        four|      wagon|         fwd|          front|     100.4| 184.6| 66.5|  56.1|       3296|       ohcv|             six|        181|       mpfi|3.43|  3.27|              9.0|       152|    5200|      17|         22|14399|\n",
      "|        0|              128|       nissan|      gas|       std|        four|      sedan|         fwd|          front|     100.4| 181.7| 66.5|  55.1|       3095|       ohcv|             six|        181|       mpfi|3.43|  3.27|              9.0|       152|    5200|      17|         22|13499|\n",
      "|        3|              194|       nissan|      gas|     turbo|         two|  hatchback|         rwd|          front|      91.3| 170.7| 67.9|  49.7|       3139|       ohcv|             six|        181|       mpfi|3.43|  3.27|              7.8|       200|    5200|      17|         23|19699|\n",
      "|        3|                ?|      porsche|      gas|       std|         two|    hardtop|         rwd|           rear|      89.5| 168.9| 65.0|  51.6|       2756|       ohcf|             six|        194|       mpfi|3.74|   2.9|              9.5|       207|    5900|      17|         25|32528|\n",
      "|        3|                ?|      porsche|      gas|       std|         two|    hardtop|         rwd|           rear|      89.5| 168.9| 65.0|  51.6|       2756|       ohcf|             six|        194|       mpfi|3.74|   2.9|              9.5|       207|    5900|      17|         25|34028|\n",
      "|        3|                ?|      porsche|      gas|       std|         two|convertible|         rwd|           rear|      89.5| 168.9| 65.0|  51.6|       2800|       ohcf|             six|        194|       mpfi|3.74|   2.9|              9.5|       207|    5900|      17|         25|37028|\n",
      "|        1|                ?|      porsche|      gas|       std|         two|  hatchback|         rwd|          front|      98.4| 175.7| 72.3|  50.5|       3366|      dohcv|           eight|        203|       mpfi|3.94|  3.11|             10.0|       288|    5750|      17|         28|    ?|\n",
      "|       -2|              103|        volvo|      gas|     turbo|        four|      sedan|         rwd|          front|     104.3| 188.8| 67.2|  56.2|       3045|        ohc|            four|        130|       mpfi|3.62|  3.15|              7.5|       162|    5100|      17|         22|18420|\n",
      "+---------+-----------------+-------------+---------+----------+------------+-----------+------------+---------------+----------+------+-----+------+-----------+-----------+----------------+-----------+-----------+----+------+-----------------+----------+--------+--------+-----------+-----+\n",
      "only showing top 20 rows\n",
      "\n"
     ]
    }
   ],
   "source": [
    "df_csv_order = df_csv.orderBy(\"city-mpg\")\n",
    "df_csv_order.show()"
   ]
  },
  {
   "cell_type": "code",
   "execution_count": 10,
   "metadata": {},
   "outputs": [
    {
     "name": "stdout",
     "output_type": "stream",
     "text": [
      "+----------+\n",
      "|horsepower|\n",
      "+----------+\n",
      "|        85|\n",
      "|        78|\n",
      "|       155|\n",
      "|       115|\n",
      "|       101|\n",
      "|        76|\n",
      "|       111|\n",
      "|       140|\n",
      "|       152|\n",
      "|        52|\n",
      "|       182|\n",
      "|        86|\n",
      "|       142|\n",
      "|        94|\n",
      "|       120|\n",
      "|        48|\n",
      "|        92|\n",
      "|        64|\n",
      "|       154|\n",
      "|       262|\n",
      "+----------+\n",
      "only showing top 20 rows\n",
      "\n"
     ]
    }
   ],
   "source": [
    "df_csv_drop_dup = df_csv.select(\"horsepower\").dropDuplicates()\n",
    "df_csv_drop_dup.show()"
   ]
  },
  {
   "cell_type": "code",
   "execution_count": 11,
   "metadata": {},
   "outputs": [
    {
     "data": {
      "text/plain": [
       "58"
      ]
     },
     "execution_count": 11,
     "metadata": {},
     "output_type": "execute_result"
    }
   ],
   "source": [
    "df_csv_drop_dup.count()"
   ]
  },
  {
   "cell_type": "code",
   "execution_count": 12,
   "metadata": {},
   "outputs": [
    {
     "name": "stdout",
     "output_type": "stream",
     "text": [
      "+---------+-----------------+------------+---------+----------+------------+-----------+------------+---------------+----------+------+-----+------+-----------+-----------+----------------+-----------+-----------+----+------+-----------------+----------+--------+--------+-----------+-----+\n",
      "|symboling|normalized-losses|manufacturer|fuel-type|aspiration|num-of-doors| body-style|drive-wheels|engine-location|wheel-base|length|width|height|curb-weight|engine-type|num-of-cylinders|engine-size|fuel-system|bore|stroke|compression-ratio|horsepower|peak-rpm|city-mpg|highway-mpg|price|\n",
      "+---------+-----------------+------------+---------+----------+------------+-----------+------------+---------------+----------+------+-----+------+-----------+-----------+----------------+-----------+-----------+----+------+-----------------+----------+--------+--------+-----------+-----+\n",
      "|        3|                ?| alfa-romero|      gas|       std|         two|convertible|         rwd|          front|      88.6| 168.8| 64.1|  48.8|       2548|       dohc|            four|        130|       mpfi|3.47|  2.68|              9.0|       111|    5000|      21|         27|13495|\n",
      "|        3|                ?| alfa-romero|      gas|       std|         two|convertible|         rwd|          front|      88.6| 168.8| 64.1|  48.8|       2548|       dohc|            four|        130|       mpfi|3.47|  2.68|              9.0|       111|    5000|      21|         27|16500|\n",
      "|        1|                ?| alfa-romero|      gas|       std|         two|  hatchback|         rwd|          front|      94.5| 171.2| 65.5|  52.4|       2823|       ohcv|             six|        152|       mpfi|2.68|  3.47|              9.0|       154|    5000|      19|         26|16500|\n",
      "|        2|              164|        audi|      gas|       std|        four|      sedan|         fwd|          front|      99.8| 176.6| 66.2|  54.3|       2337|        ohc|            four|        109|       mpfi|3.19|   3.4|             10.0|       102|    5500|      24|         30|13950|\n",
      "|        2|              164|        audi|      gas|       std|        four|      sedan|         4wd|          front|      99.4| 176.6| 66.4|  54.3|       2824|        ohc|            five|        136|       mpfi|3.19|   3.4|              8.0|       115|    5500|      18|         22|17450|\n",
      "|        2|                ?|        audi|      gas|       std|         two|      sedan|         fwd|          front|      99.8| 177.3| 66.3|  53.1|       2507|        ohc|            five|        136|       mpfi|3.19|   3.4|              8.5|       110|    5500|      19|         25|15250|\n",
      "|        1|              158|        audi|      gas|       std|        four|      sedan|         fwd|          front|     105.8| 192.7| 71.4|  55.7|       2844|        ohc|            five|        136|       mpfi|3.19|   3.4|              8.5|       110|    5500|      19|         25|17710|\n",
      "|        1|                ?|        audi|      gas|       std|        four|      wagon|         fwd|          front|     105.8| 192.7| 71.4|  55.7|       2954|        ohc|            five|        136|       mpfi|3.19|   3.4|              8.5|       110|    5500|      19|         25|18920|\n",
      "|        1|              158|        audi|      gas|     turbo|        four|      sedan|         fwd|          front|     105.8| 192.7| 71.4|  55.9|       3086|        ohc|            five|        131|       mpfi|3.13|   3.4|              8.3|       140|    5500|      17|         20|23875|\n",
      "|        0|                ?|        audi|      gas|     turbo|         two|  hatchback|         4wd|          front|      99.5| 178.2| 67.9|  52.0|       3053|        ohc|            five|        131|       mpfi|3.13|   3.4|              7.0|       160|    5500|      16|         22|    ?|\n",
      "|        2|              192|         bmw|      gas|       std|         two|      sedan|         rwd|          front|     101.2| 176.8| 64.8|  54.3|       2395|        ohc|            four|        108|       mpfi| 3.5|   2.8|              8.8|       101|    5800|      23|         29|16430|\n",
      "|        0|              192|         bmw|      gas|       std|        four|      sedan|         rwd|          front|     101.2| 176.8| 64.8|  54.3|       2395|        ohc|            four|        108|       mpfi| 3.5|   2.8|              8.8|       101|    5800|      23|         29|16925|\n",
      "|        0|              188|         bmw|      gas|       std|         two|      sedan|         rwd|          front|     101.2| 176.8| 64.8|  54.3|       2710|        ohc|             six|        164|       mpfi|3.31|  3.19|              9.0|       121|    4250|      21|         28|20970|\n",
      "|        0|              188|         bmw|      gas|       std|        four|      sedan|         rwd|          front|     101.2| 176.8| 64.8|  54.3|       2765|        ohc|             six|        164|       mpfi|3.31|  3.19|              9.0|       121|    4250|      21|         28|21105|\n",
      "|        1|                ?|         bmw|      gas|       std|        four|      sedan|         rwd|          front|     103.5| 189.0| 66.9|  55.7|       3055|        ohc|             six|        164|       mpfi|3.31|  3.19|              9.0|       121|    4250|      20|         25|24565|\n",
      "|        0|                ?|         bmw|      gas|       std|        four|      sedan|         rwd|          front|     103.5| 189.0| 66.9|  55.7|       3230|        ohc|             six|        209|       mpfi|3.62|  3.39|              8.0|       182|    5400|      16|         22|30760|\n",
      "|        0|                ?|         bmw|      gas|       std|         two|      sedan|         rwd|          front|     103.5| 193.8| 67.9|  53.7|       3380|        ohc|             six|        209|       mpfi|3.62|  3.39|              8.0|       182|    5400|      16|         22|41315|\n",
      "|        0|                ?|         bmw|      gas|       std|        four|      sedan|         rwd|          front|     110.0| 197.0| 70.9|  56.3|       3505|        ohc|             six|        209|       mpfi|3.62|  3.39|              8.0|       182|    5400|      15|         20|36880|\n",
      "|        2|              121|   chevrolet|      gas|       std|         two|  hatchback|         fwd|          front|      88.4| 141.1| 60.3|  53.2|       1488|          l|           three|         61|       2bbl|2.91|  3.03|              9.5|        48|    5100|      47|         53| 5151|\n",
      "|        1|               98|   chevrolet|      gas|       std|         two|  hatchback|         fwd|          front|      94.5| 155.9| 63.6|  52.0|       1874|        ohc|            four|         90|       2bbl|3.03|  3.11|              9.6|        70|    5400|      38|         43| 6295|\n",
      "+---------+-----------------+------------+---------+----------+------------+-----------+------------+---------------+----------+------+-----+------+-----------+-----------+----------------+-----------+-----------+----+------+-----------------+----------+--------+--------+-----------+-----+\n",
      "only showing top 20 rows\n",
      "\n"
     ]
    }
   ],
   "source": [
    "df_csv_renamed_make = df_csv.withColumnRenamed(\"make\", \"manufacturer\")\n",
    "df_csv_renamed_make.show()"
   ]
  },
  {
   "attachments": {},
   "cell_type": "markdown",
   "metadata": {},
   "source": [
    "The following codes are used to answer the following questions:\n",
    "1. What are the characteristics of a high miles per gallon car?\n",
    "2. What are the characteristics of an affordable (low price point) car? \n",
    "3. Does the dimension and body style of the car affects the fuel efficiency (mpg) of the car?"
   ]
  },
  {
   "cell_type": "code",
   "execution_count": 13,
   "metadata": {},
   "outputs": [
    {
     "name": "stdout",
     "output_type": "stream",
     "text": [
      "+---------+-----------------+-----------+---------+----------+------------+-----------+------------+---------------+----------+------+-----+------+-----------+-----------+----------------+-----------+-----------+----+------+-----------------+----------+--------+--------+-----------+-----+\n",
      "|symboling|normalized_losses|       make|fuel_type|aspiration|num_of_doors| body_style|drive_wheels|engine_location|wheel_base|length|width|height|curb_weight|engine_type|num_of_cylinders|engine_size|fuel_system|bore|stroke|compression-ratio|horsepower|peak_rpm|city_mpg|highway_mpg|price|\n",
      "+---------+-----------------+-----------+---------+----------+------------+-----------+------------+---------------+----------+------+-----+------+-----------+-----------+----------------+-----------+-----------+----+------+-----------------+----------+--------+--------+-----------+-----+\n",
      "|        3|                ?|alfa-romero|      gas|       std|         two|convertible|         rwd|          front|      88.6| 168.8| 64.1|  48.8|       2548|       dohc|            four|        130|       mpfi|3.47|  2.68|              9.0|       111|    5000|      21|         27|13495|\n",
      "|        3|                ?|alfa-romero|      gas|       std|         two|convertible|         rwd|          front|      88.6| 168.8| 64.1|  48.8|       2548|       dohc|            four|        130|       mpfi|3.47|  2.68|              9.0|       111|    5000|      21|         27|16500|\n",
      "|        1|                ?|alfa-romero|      gas|       std|         two|  hatchback|         rwd|          front|      94.5| 171.2| 65.5|  52.4|       2823|       ohcv|             six|        152|       mpfi|2.68|  3.47|              9.0|       154|    5000|      19|         26|16500|\n",
      "|        2|              164|       audi|      gas|       std|        four|      sedan|         fwd|          front|      99.8| 176.6| 66.2|  54.3|       2337|        ohc|            four|        109|       mpfi|3.19|   3.4|             10.0|       102|    5500|      24|         30|13950|\n",
      "|        2|              164|       audi|      gas|       std|        four|      sedan|         4wd|          front|      99.4| 176.6| 66.4|  54.3|       2824|        ohc|            five|        136|       mpfi|3.19|   3.4|              8.0|       115|    5500|      18|         22|17450|\n",
      "|        2|                ?|       audi|      gas|       std|         two|      sedan|         fwd|          front|      99.8| 177.3| 66.3|  53.1|       2507|        ohc|            five|        136|       mpfi|3.19|   3.4|              8.5|       110|    5500|      19|         25|15250|\n",
      "|        1|              158|       audi|      gas|       std|        four|      sedan|         fwd|          front|     105.8| 192.7| 71.4|  55.7|       2844|        ohc|            five|        136|       mpfi|3.19|   3.4|              8.5|       110|    5500|      19|         25|17710|\n",
      "|        1|                ?|       audi|      gas|       std|        four|      wagon|         fwd|          front|     105.8| 192.7| 71.4|  55.7|       2954|        ohc|            five|        136|       mpfi|3.19|   3.4|              8.5|       110|    5500|      19|         25|18920|\n",
      "|        1|              158|       audi|      gas|     turbo|        four|      sedan|         fwd|          front|     105.8| 192.7| 71.4|  55.9|       3086|        ohc|            five|        131|       mpfi|3.13|   3.4|              8.3|       140|    5500|      17|         20|23875|\n",
      "|        0|                ?|       audi|      gas|     turbo|         two|  hatchback|         4wd|          front|      99.5| 178.2| 67.9|  52.0|       3053|        ohc|            five|        131|       mpfi|3.13|   3.4|              7.0|       160|    5500|      16|         22|    ?|\n",
      "|        2|              192|        bmw|      gas|       std|         two|      sedan|         rwd|          front|     101.2| 176.8| 64.8|  54.3|       2395|        ohc|            four|        108|       mpfi| 3.5|   2.8|              8.8|       101|    5800|      23|         29|16430|\n",
      "|        0|              192|        bmw|      gas|       std|        four|      sedan|         rwd|          front|     101.2| 176.8| 64.8|  54.3|       2395|        ohc|            four|        108|       mpfi| 3.5|   2.8|              8.8|       101|    5800|      23|         29|16925|\n",
      "|        0|              188|        bmw|      gas|       std|         two|      sedan|         rwd|          front|     101.2| 176.8| 64.8|  54.3|       2710|        ohc|             six|        164|       mpfi|3.31|  3.19|              9.0|       121|    4250|      21|         28|20970|\n",
      "|        0|              188|        bmw|      gas|       std|        four|      sedan|         rwd|          front|     101.2| 176.8| 64.8|  54.3|       2765|        ohc|             six|        164|       mpfi|3.31|  3.19|              9.0|       121|    4250|      21|         28|21105|\n",
      "|        1|                ?|        bmw|      gas|       std|        four|      sedan|         rwd|          front|     103.5| 189.0| 66.9|  55.7|       3055|        ohc|             six|        164|       mpfi|3.31|  3.19|              9.0|       121|    4250|      20|         25|24565|\n",
      "|        0|                ?|        bmw|      gas|       std|        four|      sedan|         rwd|          front|     103.5| 189.0| 66.9|  55.7|       3230|        ohc|             six|        209|       mpfi|3.62|  3.39|              8.0|       182|    5400|      16|         22|30760|\n",
      "|        0|                ?|        bmw|      gas|       std|         two|      sedan|         rwd|          front|     103.5| 193.8| 67.9|  53.7|       3380|        ohc|             six|        209|       mpfi|3.62|  3.39|              8.0|       182|    5400|      16|         22|41315|\n",
      "|        0|                ?|        bmw|      gas|       std|        four|      sedan|         rwd|          front|     110.0| 197.0| 70.9|  56.3|       3505|        ohc|             six|        209|       mpfi|3.62|  3.39|              8.0|       182|    5400|      15|         20|36880|\n",
      "|        2|              121|  chevrolet|      gas|       std|         two|  hatchback|         fwd|          front|      88.4| 141.1| 60.3|  53.2|       1488|          l|           three|         61|       2bbl|2.91|  3.03|              9.5|        48|    5100|      47|         53| 5151|\n",
      "|        1|               98|  chevrolet|      gas|       std|         two|  hatchback|         fwd|          front|      94.5| 155.9| 63.6|  52.0|       1874|        ohc|            four|         90|       2bbl|3.03|  3.11|              9.6|        70|    5400|      38|         43| 6295|\n",
      "+---------+-----------------+-----------+---------+----------+------------+-----------+------------+---------------+----------+------+-----+------+-----------+-----------+----------------+-----------+-----------+----+------+-----------------+----------+--------+--------+-----------+-----+\n",
      "only showing top 20 rows\n",
      "\n"
     ]
    }
   ],
   "source": [
    "rename_columns = {\n",
    "    \"normalized-losses\": \"normalized_losses\",\n",
    "    \"fuel-type\": \"fuel_type\",\n",
    "    \"num-of-doors\": \"num_of_doors\",\n",
    "    \"body-style\": \"body_style\",\n",
    "    \"drive-wheels\": \"drive_wheels\",\n",
    "    \"engine-location\": \"engine_location\",\n",
    "    \"wheel-base\": \"wheel_base\",\n",
    "    \"curb-weight\": \"curb_weight\",\n",
    "    \"engine-type\": \"engine_type\",\n",
    "    \"num-of-cylinders\": \"num_of_cylinders\",\n",
    "    \"engine-size\": \"engine_size\",\n",
    "    \"fuel-system\": \"fuel_system\",\n",
    "    \"compression-ration\": \"compression_ratio\",\n",
    "    \"peak-rpm\": \"peak_rpm\",\n",
    "    \"city-mpg\": \"city_mpg\",\n",
    "    \"highway-mpg\": \"highway_mpg\"\n",
    "}\n",
    "\n",
    "df_rn = df_csv.withColumnsRenamed(colsMap= rename_columns)\n",
    "df_rn.show()"
   ]
  },
  {
   "cell_type": "code",
   "execution_count": 14,
   "metadata": {},
   "outputs": [],
   "source": [
    "df_rn.createOrReplaceTempView(\"df_rn\")"
   ]
  },
  {
   "cell_type": "code",
   "execution_count": 15,
   "metadata": {},
   "outputs": [
    {
     "name": "stdout",
     "output_type": "stream",
     "text": [
      "+---------+-----------------+---------+---------+----------+------------+----------+------------+---------------+----------+------+-----+------+-----------+-----------+----------------+-----------+-----------+----+------+-----------------+----------+--------+--------+-----------+-----+\n",
      "|symboling|normalized_losses|     make|fuel_type|aspiration|num_of_doors|body_style|drive_wheels|engine_location|wheel_base|length|width|height|curb_weight|engine_type|num_of_cylinders|engine_size|fuel_system|bore|stroke|compression-ratio|horsepower|peak_rpm|city_mpg|highway_mpg|price|\n",
      "+---------+-----------------+---------+---------+----------+------------+----------+------------+---------------+----------+------+-----+------+-----------+-----------+----------------+-----------+-----------+----+------+-----------------+----------+--------+--------+-----------+-----+\n",
      "|        2|              137|    honda|      gas|       std|         two| hatchback|         fwd|          front|      86.6| 144.6| 63.9|  50.8|       1713|        ohc|            four|         92|       1bbl|2.91|  3.41|              9.6|        58|    4800|      49|         54| 6479|\n",
      "|        2|              121|chevrolet|      gas|       std|         two| hatchback|         fwd|          front|      88.4| 141.1| 60.3|  53.2|       1488|          l|           three|         61|       2bbl|2.91|  3.03|              9.5|        48|    5100|      47|         53| 5151|\n",
      "|        1|              128|   nissan|   diesel|       std|         two|     sedan|         fwd|          front|      94.5| 165.3| 63.8|  54.5|       2017|        ohc|            four|        103|        idi|2.99|  3.47|             21.9|        55|    4800|      45|         50| 7099|\n",
      "|        0|                ?|    isuzu|      gas|       std|        four|     sedan|         fwd|          front|      94.5| 155.9| 63.6|  52.0|       1909|        ohc|            four|         90|       2bbl|3.03|  3.11|              9.6|        70|    5400|      38|         43|    ?|\n",
      "|        1|                ?|    isuzu|      gas|       std|         two|     sedan|         fwd|          front|      94.5| 155.9| 63.6|  52.0|       1874|        ohc|            four|         90|       2bbl|3.03|  3.11|              9.6|        70|    5400|      38|         43|    ?|\n",
      "|        1|              101|    honda|      gas|       std|         two| hatchback|         fwd|          front|      93.7| 150.0| 64.0|  52.6|       1837|        ohc|            four|         79|       1bbl|2.91|  3.07|             10.1|        60|    5500|      38|         42| 5399|\n",
      "|        0|               91|   toyota|      gas|       std|        four|     sedan|         fwd|          front|      95.7| 166.3| 64.4|  53.0|       2094|        ohc|            four|         98|       2bbl|3.19|  3.03|              9.0|        70|    4800|      38|         47| 7738|\n",
      "|        0|               91|   toyota|   diesel|       std|        four| hatchback|         fwd|          front|      95.7| 166.3| 64.4|  52.8|       2275|        ohc|            four|        110|        idi|3.27|  3.35|             22.5|        56|    4500|      38|         47| 7788|\n",
      "|        1|               98|chevrolet|      gas|       std|         two| hatchback|         fwd|          front|      94.5| 155.9| 63.6|  52.0|       1874|        ohc|            four|         90|       2bbl|3.03|  3.11|              9.6|        70|    5400|      38|         43| 6295|\n",
      "|        0|               81|chevrolet|      gas|       std|        four|     sedan|         fwd|          front|      94.5| 158.8| 63.6|  52.0|       1909|        ohc|            four|         90|       2bbl|3.03|  3.11|              9.6|        70|    5400|      38|         43| 6575|\n",
      "+---------+-----------------+---------+---------+----------+------------+----------+------------+---------------+----------+------+-----+------+-----------+-----------+----------------+-----------+-----------+----+------+-----------------+----------+--------+--------+-----------+-----+\n",
      "only showing top 10 rows\n",
      "\n"
     ]
    }
   ],
   "source": [
    "query = '''\n",
    "SELECT * \n",
    "FROM df_rn\n",
    "ORDER BY city_mpg\n",
    "DESC\n",
    "'''\n",
    "df_high_mpg = spark.sql(query).show(10)\n"
   ]
  },
  {
   "cell_type": "code",
   "execution_count": 16,
   "metadata": {},
   "outputs": [
    {
     "name": "stdout",
     "output_type": "stream",
     "text": [
      "+---------+-----------------+---------+---------+----------+------------+----------+------------+---------------+----------+------+-----+------+-----------+-----------+----------------+-----------+-----------+----+------+-----------------+----------+--------+--------+-----------+-----+\n",
      "|symboling|normalized-losses|     make|fuel-type|aspiration|num-of-doors|body-style|drive-wheels|engine-location|wheel-base|length|width|height|curb-weight|engine-type|num-of-cylinders|engine-size|fuel-system|bore|stroke|compression-ratio|horsepower|peak-rpm|city-mpg|highway-mpg|price|\n",
      "+---------+-----------------+---------+---------+----------+------------+----------+------------+---------------+----------+------+-----+------+-----------+-----------+----------------+-----------+-----------+----+------+-----------------+----------+--------+--------+-----------+-----+\n",
      "|        2|              137|    honda|      gas|       std|         two| hatchback|         fwd|          front|      86.6| 144.6| 63.9|  50.8|       1713|        ohc|            four|         92|       1bbl|2.91|  3.41|              9.6|        58|    4800|      49|         54| 6479|\n",
      "|        2|              121|chevrolet|      gas|       std|         two| hatchback|         fwd|          front|      88.4| 141.1| 60.3|  53.2|       1488|          l|           three|         61|       2bbl|2.91|  3.03|              9.5|        48|    5100|      47|         53| 5151|\n",
      "|        1|              128|   nissan|   diesel|       std|         two|     sedan|         fwd|          front|      94.5| 165.3| 63.8|  54.5|       2017|        ohc|            four|        103|        idi|2.99|  3.47|             21.9|        55|    4800|      45|         50| 7099|\n",
      "|        0|                ?|    isuzu|      gas|       std|        four|     sedan|         fwd|          front|      94.5| 155.9| 63.6|  52.0|       1909|        ohc|            four|         90|       2bbl|3.03|  3.11|              9.6|        70|    5400|      38|         43|    ?|\n",
      "|        1|                ?|    isuzu|      gas|       std|         two|     sedan|         fwd|          front|      94.5| 155.9| 63.6|  52.0|       1874|        ohc|            four|         90|       2bbl|3.03|  3.11|              9.6|        70|    5400|      38|         43|    ?|\n",
      "|        1|              101|    honda|      gas|       std|         two| hatchback|         fwd|          front|      93.7| 150.0| 64.0|  52.6|       1837|        ohc|            four|         79|       1bbl|2.91|  3.07|             10.1|        60|    5500|      38|         42| 5399|\n",
      "|        0|               91|   toyota|      gas|       std|        four|     sedan|         fwd|          front|      95.7| 166.3| 64.4|  53.0|       2094|        ohc|            four|         98|       2bbl|3.19|  3.03|              9.0|        70|    4800|      38|         47| 7738|\n",
      "|        0|               91|   toyota|   diesel|       std|        four| hatchback|         fwd|          front|      95.7| 166.3| 64.4|  52.8|       2275|        ohc|            four|        110|        idi|3.27|  3.35|             22.5|        56|    4500|      38|         47| 7788|\n",
      "|        1|               98|chevrolet|      gas|       std|         two| hatchback|         fwd|          front|      94.5| 155.9| 63.6|  52.0|       1874|        ohc|            four|         90|       2bbl|3.03|  3.11|              9.6|        70|    5400|      38|         43| 6295|\n",
      "|        0|               81|chevrolet|      gas|       std|        four|     sedan|         fwd|          front|      94.5| 158.8| 63.6|  52.0|       1909|        ohc|            four|         90|       2bbl|3.03|  3.11|              9.6|        70|    5400|      38|         43| 6575|\n",
      "+---------+-----------------+---------+---------+----------+------------+----------+------------+---------------+----------+------+-----+------+-----------+-----------+----------------+-----------+-----------+----+------+-----------------+----------+--------+--------+-----------+-----+\n",
      "only showing top 10 rows\n",
      "\n"
     ]
    }
   ],
   "source": [
    "df_city_mpg = df_csv.orderBy(\"city-mpg\", ascending=False)\n",
    "df_city_mpg.show(10)"
   ]
  },
  {
   "attachments": {},
   "cell_type": "markdown",
   "metadata": {},
   "source": [
    "1. What are the characteristics of a high miles per gallon car?\n",
    "\n",
    "The characteristics of the top 10 car models that have high miles per gallon in the city and in the highway are the following: \n",
    "- eight out of 10 uses gas as their fuel type\n",
    "- uses naturally aspirated engine\n",
    "- either a hatchback or a sedan\n",
    "- front-wheel drive\n",
    "- engine's located at the front\n",
    "- less than 96 units of wheel base\n",
    "- length is less than 167 units\n",
    "- width is between 60.3 and 64.4 units\n",
    "- curb weight is less than 2300 units\n",
    "- engine type uses ohc\n",
    "- have three or four number of cylinders\n",
    "- uses 110 units or below as engine size\n",
    "- engine's stroke is generally greater than engine's bore\n",
    "- peak rpm is 5500 or lower\n",
    "- these type of cars are also affordable, ranging from 5151 to 7788 monetary value"
   ]
  },
  {
   "cell_type": "code",
   "execution_count": 17,
   "metadata": {},
   "outputs": [
    {
     "name": "stdout",
     "output_type": "stream",
     "text": [
      "+---------+-----------------+----------+---------+----------+------------+----------+------------+---------------+----------+------+-----+------+-----------+-----------+----------------+-----------+-----------+----+------+-----------------+----------+--------+--------+-----------+-----+\n",
      "|symboling|normalized_losses|      make|fuel_type|aspiration|num_of_doors|body_style|drive_wheels|engine_location|wheel_base|length|width|height|curb_weight|engine_type|num_of_cylinders|engine_size|fuel_system|bore|stroke|compression-ratio|horsepower|peak_rpm|city_mpg|highway_mpg|price|\n",
      "+---------+-----------------+----------+---------+----------+------------+----------+------------+---------------+----------+------+-----+------+-----------+-----------+----------------+-----------+-----------+----+------+-----------------+----------+--------+--------+-----------+-----+\n",
      "|        2|               83|    subaru|      gas|       std|         two| hatchback|         fwd|          front|      93.7| 156.9| 63.4|  53.7|       2050|       ohcf|            four|         97|       2bbl|3.62|  2.36|              9.0|        69|    4900|      31|         36| 5118|\n",
      "|        2|              121| chevrolet|      gas|       std|         two| hatchback|         fwd|          front|      88.4| 141.1| 60.3|  53.2|       1488|          l|           three|         61|       2bbl|2.91|  3.03|              9.5|        48|    5100|      47|         53| 5151|\n",
      "|        1|              104|     mazda|      gas|       std|         two| hatchback|         fwd|          front|      93.1| 159.1| 64.2|  54.1|       1890|        ohc|            four|         91|       2bbl|3.03|  3.15|              9.0|        68|    5000|      30|         31| 5195|\n",
      "|        1|               87|    toyota|      gas|       std|         two| hatchback|         fwd|          front|      95.7| 158.7| 63.6|  54.5|       1985|        ohc|            four|         92|       2bbl|3.05|  3.03|              9.0|        62|    4800|      35|         39| 5348|\n",
      "|        2|              161|mitsubishi|      gas|       std|         two| hatchback|         fwd|          front|      93.7| 157.3| 64.4|  50.8|       1918|        ohc|            four|         92|       2bbl|2.97|  3.23|              9.4|        68|    5500|      37|         41| 5389|\n",
      "|        1|              101|     honda|      gas|       std|         two| hatchback|         fwd|          front|      93.7| 150.0| 64.0|  52.6|       1837|        ohc|            four|         79|       1bbl|2.91|  3.07|             10.1|        60|    5500|      38|         42| 5399|\n",
      "|        1|              128|    nissan|      gas|       std|         two|     sedan|         fwd|          front|      94.5| 165.3| 63.8|  54.5|       1889|        ohc|            four|         97|       2bbl|3.15|  3.29|              9.4|        69|    5200|      31|         37| 5499|\n",
      "|        1|              118|     dodge|      gas|       std|         two| hatchback|         fwd|          front|      93.7| 157.3| 63.8|  50.8|       1876|        ohc|            four|         90|       2bbl|2.97|  3.23|             9.41|        68|    5500|      37|         41| 5572|\n",
      "|        1|              119|  plymouth|      gas|       std|         two| hatchback|         fwd|          front|      93.7| 157.3| 63.8|  50.8|       1918|        ohc|            four|         90|       2bbl|2.97|  3.23|              9.4|        68|    5500|      37|         41| 5572|\n",
      "|        1|              104|     mazda|      gas|       std|         two| hatchback|         fwd|          front|      93.1| 159.1| 64.2|  54.1|       1900|        ohc|            four|         91|       2bbl|3.03|  3.15|              9.0|        68|    5000|      31|         38| 6095|\n",
      "+---------+-----------------+----------+---------+----------+------------+----------+------------+---------------+----------+------+-----+------+-----------+-----------+----------------+-----------+-----------+----+------+-----------------+----------+--------+--------+-----------+-----+\n",
      "only showing top 10 rows\n",
      "\n"
     ]
    }
   ],
   "source": [
    "query = '''\n",
    "SELECT * \n",
    "FROM df_rn\n",
    "WHERE price < 10000\n",
    "ORDER BY price\n",
    "ASC\n",
    "'''\n",
    "df_low_price = spark.sql(query).show(10)"
   ]
  },
  {
   "cell_type": "code",
   "execution_count": 18,
   "metadata": {},
   "outputs": [
    {
     "name": "stdout",
     "output_type": "stream",
     "text": [
      "+---------+-----------------+----------+---------+----------+------------+----------+------------+---------------+----------+------+-----+------+-----------+-----------+----------------+-----------+-----------+----+------+-----------------+----------+--------+--------+-----------+-----+\n",
      "|symboling|normalized-losses|      make|fuel-type|aspiration|num-of-doors|body-style|drive-wheels|engine-location|wheel-base|length|width|height|curb-weight|engine-type|num-of-cylinders|engine-size|fuel-system|bore|stroke|compression-ratio|horsepower|peak-rpm|city-mpg|highway-mpg|price|\n",
      "+---------+-----------------+----------+---------+----------+------------+----------+------------+---------------+----------+------+-----+------+-----------+-----------+----------------+-----------+-----------+----+------+-----------------+----------+--------+--------+-----------+-----+\n",
      "|        2|               83|    subaru|      gas|       std|         two| hatchback|         fwd|          front|      93.7| 156.9| 63.4|  53.7|       2050|       ohcf|            four|         97|       2bbl|3.62|  2.36|              9.0|        69|    4900|      31|         36| 5118|\n",
      "|        2|              121| chevrolet|      gas|       std|         two| hatchback|         fwd|          front|      88.4| 141.1| 60.3|  53.2|       1488|          l|           three|         61|       2bbl|2.91|  3.03|              9.5|        48|    5100|      47|         53| 5151|\n",
      "|        1|              104|     mazda|      gas|       std|         two| hatchback|         fwd|          front|      93.1| 159.1| 64.2|  54.1|       1890|        ohc|            four|         91|       2bbl|3.03|  3.15|              9.0|        68|    5000|      30|         31| 5195|\n",
      "|        1|               87|    toyota|      gas|       std|         two| hatchback|         fwd|          front|      95.7| 158.7| 63.6|  54.5|       1985|        ohc|            four|         92|       2bbl|3.05|  3.03|              9.0|        62|    4800|      35|         39| 5348|\n",
      "|        2|              161|mitsubishi|      gas|       std|         two| hatchback|         fwd|          front|      93.7| 157.3| 64.4|  50.8|       1918|        ohc|            four|         92|       2bbl|2.97|  3.23|              9.4|        68|    5500|      37|         41| 5389|\n",
      "|        1|              101|     honda|      gas|       std|         two| hatchback|         fwd|          front|      93.7| 150.0| 64.0|  52.6|       1837|        ohc|            four|         79|       1bbl|2.91|  3.07|             10.1|        60|    5500|      38|         42| 5399|\n",
      "|        1|              128|    nissan|      gas|       std|         two|     sedan|         fwd|          front|      94.5| 165.3| 63.8|  54.5|       1889|        ohc|            four|         97|       2bbl|3.15|  3.29|              9.4|        69|    5200|      31|         37| 5499|\n",
      "|        1|              118|     dodge|      gas|       std|         two| hatchback|         fwd|          front|      93.7| 157.3| 63.8|  50.8|       1876|        ohc|            four|         90|       2bbl|2.97|  3.23|             9.41|        68|    5500|      37|         41| 5572|\n",
      "|        1|              119|  plymouth|      gas|       std|         two| hatchback|         fwd|          front|      93.7| 157.3| 63.8|  50.8|       1918|        ohc|            four|         90|       2bbl|2.97|  3.23|              9.4|        68|    5500|      37|         41| 5572|\n",
      "|        1|              104|     mazda|      gas|       std|         two| hatchback|         fwd|          front|      93.1| 159.1| 64.2|  54.1|       1900|        ohc|            four|         91|       2bbl|3.03|  3.15|              9.0|        68|    5000|      31|         38| 6095|\n",
      "+---------+-----------------+----------+---------+----------+------------+----------+------------+---------------+----------+------+-----+------+-----------+-----------+----------------+-----------+-----------+----+------+-----------------+----------+--------+--------+-----------+-----+\n",
      "only showing top 10 rows\n",
      "\n"
     ]
    }
   ],
   "source": [
    "df_low_price = df_csv.filter(df_csv.price<10000)\n",
    "df_low_price = df_low_price.orderBy(\"price\", ascending=True)\n",
    "df_low_price.show(10)"
   ]
  },
  {
   "attachments": {},
   "cell_type": "markdown",
   "metadata": {},
   "source": [
    "2. What are the characteristics of an affordable (low price point) car? \n",
    "\n",
    "The characteristics of the top 10 cars that have low price points are the following:\n",
    "- uses gas as fuel type\n",
    "- uses a naturally aspirated engine\n",
    "- generally a two door hatchback\n",
    "- front-wheel drive\n",
    "- engine's at the front\n",
    "- wheel base is between 88.4 and 95.7 units\n",
    "- length is between 141.1 and 165.3 units\n",
    "- width is between 60.3 and 64.4 units\n",
    "- height is equal or less than 54.5 units\n",
    "- curb weight is between 1488 and 2050 units\n",
    "- engine type is generally ohc\n",
    "- 9 out of 10 have four cylinders\n",
    "- engine size is around 61 to 97 units\n",
    "- 9 out of 10 uses 2bbl as fuel system\n",
    "- bore is around 2.91 to 3.62 units\n",
    "- stroke is around 2.36 to 3.29 units\n",
    "- compression ratio is between 9.0 and 10.1 units\n",
    "- engine's power is less than 70 horsepower\n",
    "- city mpg is around 30 and 47 mpg\n",
    "- highway mpg is around 31 and 53\n",
    "- the price ranges from 5118 to 6095"
   ]
  },
  {
   "cell_type": "code",
   "execution_count": 19,
   "metadata": {},
   "outputs": [
    {
     "name": "stdout",
     "output_type": "stream",
     "text": [
      "+-----------+-----------+----------+------+-----+------+--------+-----------+-----------+\n",
      "|curb_weight| body_style|wheel_base|length|width|height|city_mpg|highway_mpg|engine_size|\n",
      "+-----------+-----------+----------+------+-----+------+--------+-----------+-----------+\n",
      "|       1713|  hatchback|      86.6| 144.6| 63.9|  50.8|      49|         54|         92|\n",
      "|       1488|  hatchback|      88.4| 141.1| 60.3|  53.2|      47|         53|         61|\n",
      "|       2017|      sedan|      94.5| 165.3| 63.8|  54.5|      45|         50|        103|\n",
      "|       1874|  hatchback|      94.5| 155.9| 63.6|  52.0|      38|         43|         90|\n",
      "|       1909|      sedan|      94.5| 158.8| 63.6|  52.0|      38|         43|         90|\n",
      "|       1837|  hatchback|      93.7| 150.0| 64.0|  52.6|      38|         42|         79|\n",
      "|       1874|      sedan|      94.5| 155.9| 63.6|  52.0|      38|         43|         90|\n",
      "|       1909|      sedan|      94.5| 155.9| 63.6|  52.0|      38|         43|         90|\n",
      "|       2275|  hatchback|      95.7| 166.3| 64.4|  52.8|      38|         47|        110|\n",
      "|       2094|      sedan|      95.7| 166.3| 64.4|  53.0|      38|         47|         98|\n",
      "|       1876|  hatchback|      93.7| 157.3| 63.8|  50.8|      37|         41|         90|\n",
      "|       1918|  hatchback|      93.7| 157.3| 64.4|  50.8|      37|         41|         92|\n",
      "|       1918|  hatchback|      93.7| 157.3| 63.8|  50.8|      37|         41|         90|\n",
      "|       2261|      sedan|      97.3| 171.7| 65.5|  55.7|      37|         46|         97|\n",
      "|       2264|      sedan|      97.3| 171.7| 65.5|  55.7|      37|         46|         97|\n",
      "|       2319|      sedan|      97.3| 171.7| 65.5|  55.7|      37|         42|         97|\n",
      "|       2443|      sedan|      98.8| 177.8| 66.5|  55.5|      36|         42|        122|\n",
      "|       1985|  hatchback|      95.7| 158.7| 63.6|  54.5|      35|         39|         92|\n",
      "|       2275|      sedan|      95.7| 166.3| 64.4|  53.0|      34|         36|        110|\n",
      "|       2579|      sedan|     100.4| 180.2| 66.9|  55.1|      33|         38|         97|\n",
      "|       2145|      sedan|      97.2| 172.0| 65.4|  52.5|      32|         37|        108|\n",
      "|       1876|  hatchback|      93.7| 157.3| 63.8|  50.8|      31|         38|         90|\n",
      "|       1967|  hatchback|      93.7| 157.3| 63.8|  50.6|      31|         38|         90|\n",
      "|       1989|      sedan|      93.7| 157.3| 63.8|  50.6|      31|         38|         90|\n",
      "|       1989|      sedan|      93.7| 157.3| 63.8|  50.6|      31|         38|         90|\n",
      "|       1819|  hatchback|      86.6| 144.6| 63.9|  50.8|      31|         38|         92|\n",
      "|       1900|  hatchback|      93.1| 159.1| 64.2|  54.1|      31|         38|         91|\n",
      "|       1905|  hatchback|      93.1| 159.1| 64.2|  54.1|      31|         38|         91|\n",
      "|       1945|      sedan|      93.1| 166.8| 64.2|  54.1|      31|         38|         91|\n",
      "|       1950|      sedan|      93.1| 166.8| 64.2|  54.1|      31|         38|         91|\n",
      "|       2700|      sedan|     104.9| 175.0| 66.1|  54.4|      31|         39|        134|\n",
      "|       1944|  hatchback|      93.7| 157.3| 64.4|  50.8|      31|         38|         92|\n",
      "|       2004|  hatchback|      93.7| 157.3| 64.4|  50.8|      31|         38|         92|\n",
      "|       1889|      sedan|      94.5| 165.3| 63.8|  54.5|      31|         37|         97|\n",
      "|       1918|      sedan|      94.5| 165.3| 63.8|  54.5|      31|         37|         97|\n",
      "|       1938|      sedan|      94.5| 165.3| 63.8|  54.5|      31|         37|         97|\n",
      "|       2024|      wagon|      94.5| 170.2| 63.8|  53.5|      31|         37|         97|\n",
      "|       1951|      sedan|      94.5| 165.3| 63.8|  54.5|      31|         37|         97|\n",
      "|       2028|  hatchback|      94.5| 165.6| 63.8|  53.3|      31|         37|         97|\n",
      "|       1971|      sedan|      94.5| 165.3| 63.8|  54.5|      31|         37|         97|\n",
      "|       2037|      wagon|      94.5| 170.2| 63.8|  53.5|      31|         37|         97|\n",
      "|       2008|    hardtop|      95.1| 162.4| 63.8|  53.3|      31|         37|         97|\n",
      "|       1967|  hatchback|      93.7| 157.3| 63.8|  50.6|      31|         38|         90|\n",
      "|       1989|      sedan|      93.7| 167.3| 63.8|  50.8|      31|         38|         90|\n",
      "|       2191|      sedan|      93.7| 167.3| 63.8|  50.8|      31|         38|         98|\n",
      "|       2050|  hatchback|      93.7| 156.9| 63.4|  53.7|      31|         36|         97|\n",
      "|       2040|  hatchback|      95.7| 158.7| 63.6|  54.5|      31|         38|         92|\n",
      "|       2015|  hatchback|      95.7| 158.7| 63.6|  54.5|      31|         38|         92|\n",
      "|       2280|      wagon|      95.7| 169.7| 63.6|  59.1|      31|         37|         92|\n",
      "|       1940|  hatchback|      93.7| 150.0| 64.0|  52.6|      30|         34|         92|\n",
      "|       1956|  hatchback|      93.7| 150.0| 64.0|  52.6|      30|         34|         92|\n",
      "|       2010|      sedan|      96.5| 163.4| 64.0|  54.5|      30|         34|         92|\n",
      "|       2024|      wagon|      96.5| 157.1| 63.9|  58.3|      30|         34|         92|\n",
      "|       1890|  hatchback|      93.1| 159.1| 64.2|  54.1|      30|         31|         91|\n",
      "|       2081|      sedan|      95.7| 166.3| 64.4|  53.0|      30|         37|         98|\n",
      "|       2109|  hatchback|      95.7| 166.3| 64.4|  52.8|      30|         37|         98|\n",
      "|       2480|      sedan|     102.4| 175.6| 66.5|  54.9|      30|         33|        110|\n",
      "|       2169|      sedan|      94.5| 168.7| 64.0|  52.6|      29|         34|         98|\n",
      "|       2204|  hatchback|      94.5| 168.7| 64.0|  52.6|      29|         34|         98|\n",
      "|       2326|      sedan|     102.4| 175.6| 66.5|  54.9|      29|         34|        122|\n",
      "|       3197|      sedan|     107.9| 186.7| 68.4|  56.7|      28|         33|        152|\n",
      "|       3252|      sedan|     107.9| 186.7| 68.4|  56.7|      28|         33|        152|\n",
      "|       3252|      sedan|     107.9| 186.7| 68.4|  56.7|      28|         33|        152|\n",
      "|       2190|      sedan|      97.2| 172.0| 65.4|  52.5|      28|         33|        108|\n",
      "|       2290|      wagon|      97.0| 173.5| 65.4|  53.0|      28|         32|        108|\n",
      "|       2122|  hatchback|      95.7| 166.3| 64.4|  52.8|      28|         34|         98|\n",
      "|       2140|      sedan|      95.7| 166.3| 64.4|  52.8|      28|         34|         98|\n",
      "|       2236|  hatchback|      96.5| 167.5| 65.2|  53.3|      27|         33|        110|\n",
      "|       2289|  hatchback|      96.5| 167.5| 65.2|  53.3|      27|         33|        110|\n",
      "|       2304|      sedan|      96.5| 175.4| 65.2|  54.1|      27|         33|        110|\n",
      "|       2372|      sedan|      96.5| 175.4| 62.5|  54.1|      27|         33|        110|\n",
      "|       2324|  hatchback|      97.2| 173.4| 65.2|  54.7|      27|         34|        120|\n",
      "|       2302|      sedan|      97.2| 173.4| 65.2|  54.7|      27|         34|        120|\n",
      "|       2290|      wagon|      95.7| 169.7| 63.6|  59.1|      27|         32|         92|\n",
      "|       3110|      wagon|      95.7| 169.7| 63.6|  59.1|      27|         32|         92|\n",
      "|       2414|  hatchback|     102.4| 175.6| 66.5|  53.9|      27|         32|        122|\n",
      "|       2414|      sedan|     102.4| 175.6| 66.5|  54.9|      27|         32|        122|\n",
      "|       2458|  hatchback|     102.4| 175.6| 66.5|  53.9|      27|         32|        122|\n",
      "|       2209|      sedan|      97.3| 171.7| 65.5|  55.7|      27|         34|        109|\n",
      "|       2212|      sedan|      97.3| 171.7| 65.5|  55.7|      27|         34|        109|\n",
      "|       2275|      sedan|      97.3| 171.7| 65.5|  55.7|      27|         34|        109|\n",
      "|       2385|  hatchback|      98.8| 177.8| 66.5|  53.7|      26|         32|        122|\n",
      "|       2410|      sedan|      98.8| 177.8| 66.5|  55.5|      26|         32|        122|\n",
      "|       2385|  hatchback|      98.8| 177.8| 66.5|  53.7|      26|         32|        122|\n",
      "|       2410|      sedan|      98.8| 177.8| 66.5|  55.5|      26|         32|        122|\n",
      "|       2425|  hatchback|      98.8| 177.8| 66.5|  55.5|      26|         32|        122|\n",
      "|       2120|  hatchback|      93.7| 157.9| 63.6|  53.7|      26|         31|        108|\n",
      "|       2240|  hatchback|      93.3| 157.3| 63.8|  55.7|      26|         31|        108|\n",
      "|       2340|      sedan|      97.2| 172.0| 65.4|  52.5|      26|         32|        108|\n",
      "|       2265|      sedan|      94.5| 168.7| 64.0|  52.6|      26|         29|         98|\n",
      "|       2300|  hatchback|      94.5| 168.7| 64.0|  52.6|      26|         29|         98|\n",
      "|       2300|      sedan|      97.3| 171.7| 65.5|  55.7|      26|         32|        109|\n",
      "|       3217|      sedan|     109.1| 188.8| 68.9|  55.5|      26|         27|        145|\n",
      "|       2293|      sedan|      96.5| 169.1| 66.0|  51.0|      25|         31|        110|\n",
      "|       2328|  hatchback|      96.3| 173.0| 65.4|  49.4|      25|         32|        122|\n",
      "|       2365|      sedan|      96.3| 172.4| 65.4|  51.6|      25|         32|        122|\n",
      "|       2405|      sedan|      96.3| 172.4| 65.4|  51.6|      25|         32|        122|\n",
      "|       3430|      wagon|     114.2| 198.9| 68.4|  58.7|      25|         25|        152|\n",
      "|       3485|      wagon|     114.2| 198.9| 68.4|  58.7|      25|         25|        152|\n",
      "|       2455|      wagon|      97.0| 173.5| 65.4|  53.0|      25|         31|        108|\n",
      "|       2563|      wagon|     100.4| 183.1| 66.9|  55.1|      25|         31|        109|\n",
      "|       2337|      sedan|      99.8| 176.6| 66.2|  54.3|      24|         30|        109|\n",
      "|       2128|  hatchback|      93.7| 157.3| 63.8|  50.8|      24|         30|         98|\n",
      "|       2191|      sedan|      93.7| 157.3| 63.8|  50.6|      24|         30|         98|\n",
      "|       2535|      wagon|     103.3| 174.6| 64.6|  59.8|      24|         30|        122|\n",
      "|       2465|      sedan|      96.5| 175.4| 65.2|  54.1|      24|         28|        110|\n",
      "|       2337|      sedan|      94.3| 170.7| 61.8|  53.5|      24|         29|        111|\n",
      "|       2734|  hatchback|      96.0| 172.6| 65.2|  51.4|      24|         29|        119|\n",
      "|       2145|  hatchback|      93.0| 157.3| 63.8|  50.8|      24|         30|         98|\n",
      "|       2128|  hatchback|      93.7| 157.3| 63.8|  50.8|      24|         30|         98|\n",
      "|       2535|      wagon|     103.3| 174.6| 64.6|  59.8|      24|         30|        122|\n",
      "|       2385|      sedan|      97.0| 172.0| 65.4|  54.3|      24|         25|        108|\n",
      "|       2510|      sedan|      97.0| 172.0| 65.4|  54.3|      24|         29|        108|\n",
      "|       2540|    hardtop|      98.4| 176.2| 65.6|  52.0|      24|         30|        146|\n",
      "|       2536|    hardtop|      98.4| 176.2| 65.6|  52.0|      24|         30|        146|\n",
      "|       2551|  hatchback|      98.4| 176.2| 65.6|  52.0|      24|         30|        146|\n",
      "|       2679|    hardtop|      98.4| 176.2| 65.6|  52.0|      24|         30|        146|\n",
      "|       2714|  hatchback|      98.4| 176.2| 65.6|  52.0|      24|         30|        146|\n",
      "|       2975|convertible|      98.4| 176.2| 65.6|  53.0|      24|         30|        146|\n",
      "|       2254|convertible|      94.5| 159.3| 64.2|  55.6|      24|         29|        109|\n",
      "|       2221|  hatchback|      94.5| 165.7| 64.0|  51.4|      24|         29|        109|\n",
      "|       2935|      sedan|     104.3| 188.8| 67.2|  56.2|      24|         28|        141|\n",
      "|       3042|      wagon|     104.3| 188.8| 67.2|  57.5|      24|         28|        141|\n",
      "|       2395|      sedan|     101.2| 176.8| 64.8|  54.3|      23|         29|        108|\n",
      "|       2395|      sedan|     101.2| 176.8| 64.8|  54.3|      23|         29|        108|\n",
      "|       2370|  hatchback|      96.3| 173.0| 65.4|  49.4|      23|         30|        110|\n",
      "|       2403|      sedan|      96.3| 172.4| 65.4|  51.6|      23|         30|        110|\n",
      "|       2403|      sedan|      96.3| 172.4| 65.4|  51.6|      23|         30|        110|\n",
      "|       2420|      wagon|      96.9| 173.6| 65.4|  54.9|      23|         29|        108|\n",
      "|       2650|      wagon|      96.9| 173.6| 65.4|  54.9|      23|         23|        108|\n",
      "|       2912|      sedan|     104.3| 188.8| 67.2|  56.2|      23|         28|        141|\n",
      "|       3034|      wagon|     104.3| 188.8| 67.2|  57.5|      23|         28|        141|\n",
      "|       2952|      sedan|     109.1| 188.8| 68.9|  55.5|      23|         28|        141|\n",
      "|       3515|      sedan|     110.0| 190.9| 70.3|  56.5|      22|         25|        183|\n",
      "|       3750|      wagon|     110.0| 190.9| 70.3|  58.7|      22|         25|        183|\n",
      "|       3495|    hardtop|     106.7| 187.5| 70.3|  54.9|      22|         25|        183|\n",
      "|       3770|      sedan|     115.6| 202.6| 71.7|  56.3|      22|         25|        183|\n",
      "|       2548|convertible|      88.6| 168.8| 64.1|  48.8|      21|         27|        130|\n",
      "|       2548|convertible|      88.6| 168.8| 64.1|  48.8|      21|         27|        130|\n",
      "|       2710|      sedan|     101.2| 176.8| 64.8|  54.3|      21|         28|        164|\n",
      "|       2765|      sedan|     101.2| 176.8| 64.8|  54.3|      21|         28|        164|\n",
      "|       2658|  hatchback|      99.1| 186.6| 66.5|  56.1|      21|         28|        121|\n",
      "|       2695|      sedan|      99.1| 186.6| 66.5|  56.1|      21|         28|        121|\n",
      "|       2707|  hatchback|      99.1| 186.6| 66.5|  56.1|      21|         28|        121|\n",
      "|       2758|      sedan|      99.1| 186.6| 66.5|  56.1|      21|         28|        121|\n",
      "|       3055|      sedan|     103.5| 189.0| 66.9|  55.7|      20|         25|        164|\n",
      "|       2976|  hatchback|     102.9| 183.5| 67.7|  52.0|      20|         24|        171|\n",
      "|       3131|      sedan|     104.5| 187.8| 66.5|  54.1|      20|         24|        171|\n",
      "|       2823|  hatchback|      94.5| 171.2| 65.5|  52.4|      19|         26|        152|\n",
      "|       2507|      sedan|      99.8| 177.3| 66.3|  53.1|      19|         25|        136|\n",
      "|       2844|      sedan|     105.8| 192.7| 71.4|  55.7|      19|         25|        136|\n",
      "|       2954|      wagon|     105.8| 192.7| 71.4|  55.7|      19|         25|        136|\n",
      "|       2811|  hatchback|      95.9| 173.2| 66.3|  50.2|      19|         24|        156|\n",
      "|       2670|      sedan|     104.9| 175.0| 66.1|  54.4|      19|         27|        140|\n",
      "|       2910|  hatchback|     102.7| 178.4| 68.0|  54.8|      19|         24|        140|\n",
      "|       2833|  hatchback|      95.9| 173.2| 66.3|  50.2|      19|         24|        156|\n",
      "|       2921|  hatchback|      95.9| 173.2| 66.3|  50.2|      19|         24|        156|\n",
      "|       2926|  hatchback|      95.9| 173.2| 66.3|  50.2|      19|         24|        156|\n",
      "|       3060|      sedan|     100.4| 184.6| 66.5|  55.1|      19|         25|        181|\n",
      "|       3071|  hatchback|      91.3| 170.7| 67.9|  49.7|      19|         25|        181|\n",
      "|       3139|  hatchback|      99.2| 178.5| 67.9|  49.7|      19|         25|        181|\n",
      "|       3020|      sedan|     107.9| 186.7| 68.4|  56.7|      19|         24|        120|\n",
      "|       3230|      wagon|     114.2| 198.9| 68.4|  58.7|      19|         24|        120|\n",
      "|       3075|      sedan|     107.9| 186.7| 68.4|  56.7|      19|         24|        120|\n",
      "|       3285|      wagon|     114.2| 198.9| 68.4|  56.7|      19|         24|        120|\n",
      "|       3075|      sedan|     107.9| 186.7| 68.4|  56.7|      19|         24|        120|\n",
      "|       2818|  hatchback|      95.9| 173.2| 66.3|  50.2|      19|         24|        156|\n",
      "|       2778|  hatchback|      94.5| 168.9| 68.3|  50.2|      19|         27|        151|\n",
      "|       2808|  hatchback|      99.1| 186.6| 66.5|  56.1|      19|         26|        121|\n",
      "|       2847|      sedan|      99.1| 186.6| 66.5|  56.1|      19|         26|        121|\n",
      "|       3016|  hatchback|     102.9| 183.5| 67.7|  52.0|      19|         24|        171|\n",
      "|       3151|      wagon|     104.5| 187.8| 66.5|  54.1|      19|         24|        161|\n",
      "|       2661|      sedan|     100.4| 180.2| 66.9|  55.1|      19|         24|        136|\n",
      "|       3049|      sedan|     109.1| 188.8| 68.8|  55.5|      19|         25|        141|\n",
      "|       3062|      sedan|     109.1| 188.8| 68.9|  55.5|      19|         25|        141|\n",
      "|       2824|      sedan|      99.4| 176.6| 66.4|  54.3|      18|         22|        136|\n",
      "|       3130|      sedan|     108.0| 186.7| 68.3|  56.0|      18|         24|        134|\n",
      "|       3012|      sedan|     109.1| 188.8| 68.9|  55.5|      18|         23|        173|\n",
      "|       3086|      sedan|     105.8| 192.7| 71.4|  55.9|      17|         20|        131|\n",
      "|       3095|      sedan|     100.4| 181.7| 66.5|  55.1|      17|         22|        181|\n",
      "|       3296|      wagon|     100.4| 184.6| 66.5|  56.1|      17|         22|        181|\n",
      "|       3139|  hatchback|      91.3| 170.7| 67.9|  49.7|      17|         23|        181|\n",
      "|       2756|    hardtop|      89.5| 168.9| 65.0|  51.6|      17|         25|        194|\n",
      "|       2756|    hardtop|      89.5| 168.9| 65.0|  51.6|      17|         25|        194|\n",
      "|       2800|convertible|      89.5| 168.9| 65.0|  51.6|      17|         25|        194|\n",
      "|       3366|  hatchback|      98.4| 175.7| 72.3|  50.5|      17|         28|        203|\n",
      "|       3045|      sedan|     104.3| 188.8| 67.2|  56.2|      17|         22|        130|\n",
      "|       3157|      wagon|     104.3| 188.8| 67.2|  57.5|      17|         22|        130|\n",
      "|       3053|  hatchback|      99.5| 178.2| 67.9|  52.0|      16|         22|        131|\n",
      "|       3230|      sedan|     103.5| 189.0| 66.9|  55.7|      16|         22|        209|\n",
      "|       3380|      sedan|     103.5| 193.8| 67.9|  53.7|      16|         22|        209|\n",
      "|       3740|      sedan|     115.6| 202.6| 71.7|  56.5|      16|         18|        234|\n",
      "|       3685|convertible|      96.6| 180.3| 70.5|  50.8|      16|         18|        234|\n",
      "|       3505|      sedan|     110.0| 197.0| 70.9|  56.3|      15|         20|        209|\n",
      "|       4066|      sedan|     113.0| 199.6| 69.6|  52.8|      15|         19|        258|\n",
      "|       4066|      sedan|     113.0| 199.6| 69.6|  52.8|      15|         19|        258|\n",
      "|       3900|      sedan|     120.9| 208.1| 71.7|  56.7|      14|         16|        308|\n",
      "|       3715|    hardtop|     112.0| 199.2| 72.0|  55.4|      14|         16|        304|\n",
      "|       3950|      sedan|     102.0| 191.7| 70.6|  47.8|      13|         17|        326|\n",
      "+-----------+-----------+----------+------+-----+------+--------+-----------+-----------+\n",
      "\n"
     ]
    }
   ],
   "source": [
    "query = '''\n",
    "SELECT curb_weight, body_style, wheel_base, length, width, height, city_mpg, highway_mpg, engine_size\n",
    "FROM df_rn\n",
    "ORDER BY city_mpg\n",
    "DESC\n",
    "'''\n",
    "df_select_desc_mpg = spark.sql(query).show(199)"
   ]
  },
  {
   "cell_type": "code",
   "execution_count": 20,
   "metadata": {},
   "outputs": [
    {
     "name": "stderr",
     "output_type": "stream",
     "text": [
      "C:\\Users\\jiro\\AppData\\Roaming\\Python\\Python310\\site-packages\\pyspark\\pandas\\__init__.py:50: UserWarning: 'PYARROW_IGNORE_TIMEZONE' environment variable was not set. It is required to set this environment variable to '1' in both driver and executor sides if you use pyarrow>=2.0.0. pandas-on-Spark will set it for you but it does not work if there is a Spark context already launched.\n",
      "  warnings.warn(\n"
     ]
    },
    {
     "data": {
      "text/plain": [
       "array([[<Axes: title={'center': 'city-mpg'}>]], dtype=object)"
      ]
     },
     "execution_count": 20,
     "metadata": {},
     "output_type": "execute_result"
    },
    {
     "data": {
      "image/png": "[encoded data removed]",
      "text/plain": [
       "<Figure size 640x480 with 1 Axes>"
      ]
     },
     "metadata": {},
     "output_type": "display_data"
    }
   ],
   "source": [
    "from pyspark import pandas\n",
    "df_pandas_mpg = df_csv.toPandas()\n",
    "df_pandas_mpg.hist(\"city-mpg\")"
   ]
  },
  {
   "cell_type": "code",
   "execution_count": 21,
   "metadata": {},
   "outputs": [
    {
     "data": {
      "text/plain": [
       "array([[<Axes: title={'center': 'width'}>]], dtype=object)"
      ]
     },
     "execution_count": 21,
     "metadata": {},
     "output_type": "execute_result"
    },
    {
     "data": {
      "image/png": "[encoded data removed]",
      "text/plain": [
       "<Figure size 640x480 with 1 Axes>"
      ]
     },
     "metadata": {},
     "output_type": "display_data"
    }
   ],
   "source": [
    "df_pandas_width = df_csv.toPandas()\n",
    "df_pandas_width.hist(\"width\")"
   ]
  },
  {
   "attachments": {},
   "cell_type": "markdown",
   "metadata": {},
   "source": [
    "3. Does the dimension and body style of the car affects the fuel efficiency (mpg) of the car?\n",
    "- Cars with high city mpg's curb weight are lighter and engine size are smaller.\n",
    "The body style does not affect city mpg as it varies greatly with different curb weights and engine sizes.\n",
    "Cars' wheel base, length, and height does not affect its mpg. However, the data shows that cars with low mpgs than average are wider than cars with high mpgs than average.\n",
    "In conclusion, the body style and the dimension of the car does not affect the fuel efficiency (mpg) of it, except the cars' width if the extremes were considered. "
   ]
  },
  {
   "attachments": {},
   "cell_type": "markdown",
   "metadata": {},
   "source": [
    "The following code will be used for future reference."
   ]
  },
  {
   "cell_type": "code",
   "execution_count": 24,
   "metadata": {},
   "outputs": [
    {
     "data": {
      "image/png": "[encoded data removed]",
      "text/plain": [
       "<Figure size 640x480 with 1 Axes>"
      ]
     },
     "metadata": {},
     "output_type": "display_data"
    }
   ],
   "source": [
    "import pandas as pd\n",
    "import numpy\n",
    "import matplotlib.pyplot as plt\n",
    "df = pd.read_csv(\"carprice.csv\")\n",
    "# df = pd.read_sql_query(df_select_desc_mpg, df_select_desc_mpg)\n",
    "df.plot(x=\"city-mpg\", y=[\"body-style\", \"wheel-base\", \"length\", \"width\", \"height\"], kind=\"bar\")\n",
    "plt.show()"
   ]
  }
 ],
 "metadata": {
  "kernelspec": {
   "display_name": "Python 3",
   "language": "python",
   "name": "python3"
  },
  "language_info": {
   "codemirror_mode": {
    "name": "ipython",
    "version": 3
   },
   "file_extension": ".py",
   "mimetype": "text/x-python",
   "name": "python",
   "nbconvert_exporter": "python",
   "pygments_lexer": "ipython3",
   "version": "3.10.7"
  },
  "orig_nbformat": 4
 },
 "nbformat": 4,
 "nbformat_minor": 2
}
